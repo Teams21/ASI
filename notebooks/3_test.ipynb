{
 "cells": [
  {
   "cell_type": "code",
   "execution_count": null,
   "id": "5a96272a-ed5e-4194-a105-e781195fde60",
   "metadata": {},
   "outputs": [],
   "source": [
    "from pycaret.classification import *\n",
    "import pandas as pd\n",
    "model = load_model('../../model/model_oczy')\n",
    "X_test = pd.read_parquet('../../output/X_test.parquet')\n",
    "y_test = X_test['Class']\n",
    "X_test = X_test.drop('Class', axis=1)\n",
    "prediction = predict_model(model, data = X_test)\n",
    "prediction = pd.concat([prediction, y_test], axis=1)\n",
    "prediction"
   ]
  },
  {
   "cell_type": "code",
   "execution_count": null,
   "id": "9f383bfa-b2b6-49d8-8117-4f1359b8b937",
   "metadata": {},
   "outputs": [],
   "source": [
    "pd.set_option('display.max_rows', None)\n",
    "\n",
    "display((prediction['Class'] == prediction['prediction_label']).sort_values())"
   ]
  }
 ],
 "metadata": {
  "kernelspec": {
   "display_name": "Python 3 (ipykernel)",
   "language": "python",
   "name": "python3"
  },
  "language_info": {
   "codemirror_mode": {
    "name": "ipython",
    "version": 3
   },
   "file_extension": ".py",
   "mimetype": "text/x-python",
   "name": "python",
   "nbconvert_exporter": "python",
   "pygments_lexer": "ipython3",
   "version": "3.10.14"
  }
 },
 "nbformat": 4,
 "nbformat_minor": 5
}
