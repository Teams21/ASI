{
 "cells": [
  {
   "cell_type": "code",
   "execution_count": null,
   "id": "461d2590-5f34-4550-a025-5f7ad6ff57a0",
   "metadata": {},
   "outputs": [],
   "source": [
    "import pandas as pd\n",
    "\n",
    "# load parquet files as pandas dataframe\n",
    "aoi = pd.read_parquet('../../output/aoi_stats.parquet')\n",
    "event = pd.read_parquet('../../output/event_stats.parquet')\n",
    "\n",
    "df = pd.concat([aoi, event], axis=1)\n",
    "duplicate_columns = df.columns[df.columns.duplicated()].unique().values\n",
    "duplicate_columns"
   ]
  },
  {
   "cell_type": "code",
   "execution_count": null,
   "id": "3939246a-a705-4e71-9081-e7f0f9be4be3",
   "metadata": {},
   "outputs": [],
   "source": [
    "df = df.loc[:, ~df.columns.duplicated()]\n",
    "# df.to_csv('../../output/train_df.csv')\n",
    "df"
   ]
  },
  {
   "cell_type": "code",
   "execution_count": null,
   "id": "f8303050-7d45-4f47-a289-8fca9ef2bbf9",
   "metadata": {},
   "outputs": [],
   "source": [
    "from sklearn.model_selection import train_test_split\n",
    "X_train, X_test = train_test_split(df, test_size=0.2, stratify=df['Class'])\n",
    "X_test.to_parquet('../../output/X_test.parquet')\n",
    "X_train"
   ]
  },
  {
   "cell_type": "code",
   "execution_count": null,
   "id": "65beac3c-7bde-4cfe-b3a2-8ee7e2f6b5d8",
   "metadata": {},
   "outputs": [],
   "source": [
    "X_test.loc[X_test['Class'] == 'control']"
   ]
  },
  {
   "cell_type": "code",
   "execution_count": null,
   "id": "62c16fcb-2892-418b-a7e7-599ed5676b19",
   "metadata": {},
   "outputs": [],
   "source": [
    "from pycaret.classification import *\n",
    "\n",
    "s = setup(X_train, target = 'Class', session_id = 123)"
   ]
  },
  {
   "cell_type": "code",
   "execution_count": null,
   "id": "a409b5ab-1ef2-4ec1-a766-481ba5eddac4",
   "metadata": {},
   "outputs": [],
   "source": [
    "best = compare_models()"
   ]
  },
  {
   "cell_type": "code",
   "execution_count": null,
   "id": "2c3097ee-42a9-4f92-a14c-62fcd9da45dd",
   "metadata": {},
   "outputs": [],
   "source": [
    "save_model(best, '../../model/model_oczy')"
   ]
  }
 ],
 "metadata": {
  "kernelspec": {
   "display_name": "Python 3 (ipykernel)",
   "language": "python",
   "name": "python3"
  },
  "language_info": {
   "codemirror_mode": {
    "name": "ipython",
    "version": 3
   },
   "file_extension": ".py",
   "mimetype": "text/x-python",
   "name": "python",
   "nbconvert_exporter": "python",
   "pygments_lexer": "ipython3",
   "version": "3.11.0rc1"
  }
 },
 "nbformat": 4,
 "nbformat_minor": 5
}
