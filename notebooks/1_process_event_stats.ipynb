{
 "cells": [
  {
   "cell_type": "code",
   "execution_count": null,
   "id": "ccd2e99e-d28d-46a7-a7f5-109aa76d7c91",
   "metadata": {},
   "outputs": [],
   "source": [
    "import pandas as pd\n",
    "pd.set_option('display.max_columns', None)"
   ]
  },
  {
   "cell_type": "code",
   "execution_count": null,
   "id": "1b97b354-78c9-48c7-9546-2d92a5103a9d",
   "metadata": {},
   "outputs": [],
   "source": [
    "df1 = pd.read_csv(f'../../data/rawdata/depresja_2grupy/Event Statistics - Trial Summary.txt', sep='\\t')\n",
    "df2 = pd.read_csv(f'../../data/rawdata/depresja_2grupy/Event Statistics - Trial Summary (1).txt', sep='\\t')\n",
    "df3 = pd.read_csv(f'../../data/rawdata/depresja kontrolni/Event Statistics - Trial Summary (1).txt', sep='\\t')\n",
    "\n",
    "# concat df1 and df2 datasets\n",
    "df = pd.concat([df1, df2, df3])\n",
    "\n",
    "# drop dataframe columns with only one distinct value\n",
    "df = df[[c for c\n",
    "        in list(df)\n",
    "        if len(df[c].unique()) > 1]]\n",
    "\n",
    "# remove all rows where column contains richtext.jpg\n",
    "df = df[df.Stimulus != 'richtext.jpg']\n",
    "\n",
    "# sort by Participant then Trial\n",
    "df.sort_values(by=['Participant', 'Trial'], inplace=True, ignore_index=True)"
   ]
  },
  {
   "cell_type": "code",
   "execution_count": null,
   "id": "862fd005-09ed-4b55-a15f-b3af3c6063fe",
   "metadata": {},
   "outputs": [],
   "source": [
    "df"
   ]
  },
  {
   "cell_type": "code",
   "execution_count": null,
   "id": "c15960a1-22c8-4f44-8f9d-28ea05071c68",
   "metadata": {},
   "outputs": [],
   "source": [
    "# Find locations of '-'\n",
    "df.replace('-', 0, inplace=True)\n",
    "\n",
    "# hack to avoid issues with inferred parquet data type mismatch\n",
    "for c in df.columns:\n",
    "    df[c] = df[c].astype(str)"
   ]
  },
  {
   "cell_type": "code",
   "execution_count": null,
   "id": "7d01ed37-c246-4026-96a0-87d21549974b",
   "metadata": {},
   "outputs": [],
   "source": [
    "# Replace participant with an index to make sure everyone is anonmyous\n",
    "for idx, name in enumerate(df['Participant'].sort_values().unique()):\n",
    "    df.replace({'Participant': {f'{name}': idx}}, inplace=True)\n",
    "\n",
    "df.sort_values(by=['Participant', 'Trial'])"
   ]
  },
  {
   "cell_type": "code",
   "execution_count": null,
   "id": "68220932-6a78-4a43-8110-73684ed15817",
   "metadata": {},
   "outputs": [],
   "source": [
    "df"
   ]
  },
  {
   "cell_type": "code",
   "execution_count": null,
   "id": "8e228bef-e5c9-4b01-adef-0ede71d2b465",
   "metadata": {},
   "outputs": [],
   "source": [
    "df.to_parquet('../../output/event_stats.parquet')"
   ]
  }
 ],
 "metadata": {
  "kernelspec": {
   "display_name": "Python 3 (ipykernel)",
   "language": "python",
   "name": "python3"
  },
  "language_info": {
   "codemirror_mode": {
    "name": "ipython",
    "version": 3
   },
   "file_extension": ".py",
   "mimetype": "text/x-python",
   "name": "python",
   "nbconvert_exporter": "python",
   "pygments_lexer": "ipython3",
   "version": "3.11.0rc1"
  }
 },
 "nbformat": 4,
 "nbformat_minor": 5
}
