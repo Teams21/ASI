{
 "cells": [
  {
   "cell_type": "code",
   "execution_count": null,
   "id": "5abc25cf-80e5-4c5f-b0b9-d957e2e319d8",
   "metadata": {},
   "outputs": [],
   "source": [
    "import pandas as pd\n",
    "pd.set_option('display.max_columns', None)"
   ]
  },
  {
   "cell_type": "code",
   "execution_count": null,
   "id": "400a112e-b685-4e27-8c98-0e0b7e2e5491",
   "metadata": {},
   "outputs": [],
   "source": [
    "# open depressive files\n",
    "df1 = pd.read_csv(f'../data/01_raw/aoi_depresja_1.csv', sep='\\t')\n",
    "df2 = pd.read_csv(f'../data/01_raw/aoi_depresja_2.csv', sep='\\t')\n",
    "\n",
    "# concat df1 and df2 datasets\n",
    "df = pd.concat([df1, df2])\n",
    "\n",
    "# add class column for classification\n",
    "df['Class'] = 'depressive'\n",
    "\n",
    "# open control group file\n",
    "df3 = pd.read_csv(f'../data/01_raw//aoi_kontrolni_1.csv', sep='\\t')\n",
    "\n",
    "# add class column for classification\n",
    "df3['Class'] = 'control'\n",
    "# concat df and df3 datasets\n",
    "df = pd.concat([df, df3])"
   ]
  },
  {
   "cell_type": "code",
   "execution_count": null,
   "id": "9576aa2e-533b-4ae2-8c46-636b74bf0607",
   "metadata": {},
   "outputs": [],
   "source": [
    "# Feauture engineering\n",
    "\n",
    "# drop dataframe columns with only one distinct value\n",
    "df = df[[c for c\n",
    "        in list(df)\n",
    "        if len(df[c].unique()) > 1]]\n",
    "\n",
    "# remove all rows where column contains richtext.jpg\n",
    "df = df[df.Stimulus != 'richtext.jpg']\n",
    "\n",
    "# few values in 'AOI Name' column are wrong, this is a fix\n",
    "df.replace(to_replace='happy (1)', value='happy', inplace=True)\n",
    "\n",
    "# Find locations of '-'\n",
    "df.replace('-', 0, inplace=True)\n",
    "\n",
    "# hack to avoid issues with inferred parquet data type mismatch\n",
    "for c in df.columns:\n",
    "    df[c] = df[c].astype(str)\n",
    "\n",
    "# sort by Participant then Trial\n",
    "df.sort_values(by=['Participant', 'Trial'], inplace=True, ignore_index=True)"
   ]
  },
  {
   "cell_type": "code",
   "execution_count": null,
   "id": "3fee138e-95dd-45b2-95c5-02af669079c2",
   "metadata": {},
   "outputs": [],
   "source": [
    "df.iloc[:5]"
   ]
  },
  {
   "cell_type": "code",
   "execution_count": null,
   "id": "b45501fd-4e38-4804-9f63-b8336fe23a31",
   "metadata": {},
   "outputs": [],
   "source": [
    "df.iloc[5:15]"
   ]
  },
  {
   "cell_type": "code",
   "execution_count": null,
   "id": "e043a260-de2c-431e-8044-22955e7d2eb7",
   "metadata": {},
   "outputs": [],
   "source": [
    "def squash_rows(rows):\n",
    "    '''\n",
    "    Squash data from rows to columns (dummyfication)\n",
    "    Turn for example two rows - happy, sad - for person A into one row with extra columns 'A happy', 'A sad'\n",
    "    '''\n",
    "    drop_rows = [\"Trial\", \"Stimulus\", \"Export End Trial Time [ms]\", \"Participant\", \"Color\", \"Class\"]\n",
    "    result = {}\n",
    "    for row in drop_rows:\n",
    "        result[row] = rows[row].iloc[0]\n",
    "        \n",
    "    t = rows.drop(drop_rows, axis=1)\n",
    "    # Adding AOI details\n",
    "    for index, row in rows.iterrows():\n",
    "        for col in list(t.drop(['AOI Name'], axis=1).columns):\n",
    "            result[f\"{col} {row['AOI Name']}\"] = row[col]\n",
    "\n",
    "    return result"
   ]
  },
  {
   "cell_type": "code",
   "execution_count": null,
   "id": "ba16d110-c8a4-42a6-9b87-d94ffd9278d6",
   "metadata": {},
   "outputs": [],
   "source": [
    "rows_list = []\n",
    "\n",
    "dataset_start = 0\n",
    "dataset_end = df.shape[0]\n",
    "squash_count = 5\n",
    "\n",
    "# squash 5 rows into one for all rows in the dataset\n",
    "for row_border in range (dataset_start, dataset_end, squash_count):\n",
    "    squashed_row = squash_rows(df.iloc[row_border:row_border + 5])\n",
    "    rows_list.append(squashed_row)\n",
    "\n",
    "df = pd.DataFrame.from_records(rows_list)   "
   ]
  },
  {
   "cell_type": "code",
   "execution_count": null,
   "id": "940190d3-15ba-4ceb-b7fd-791a73f7b7f6",
   "metadata": {},
   "outputs": [],
   "source": [
    "# Check for any NaN values in the dataframe\n",
    "df.columns[df.isna().any()].tolist()"
   ]
  },
  {
   "cell_type": "code",
   "execution_count": null,
   "id": "4adaf737-018a-4f51-959c-bb8f16062a86",
   "metadata": {},
   "outputs": [],
   "source": [
    "print(f'row count: {df.shape[0]}\\n\\nschema:\\n{df.dtypes.to_string()}')"
   ]
  },
  {
   "cell_type": "code",
   "execution_count": null,
   "id": "7d5d11a1-5a73-42a3-810e-7f66c7f7f916",
   "metadata": {},
   "outputs": [],
   "source": [
    "# Replace participant with an index to make sure everyone is anonmyous\n",
    "for idx, name in enumerate(df['Participant'].sort_values().unique()):\n",
    "    df.replace({'Participant': {f'{name}': idx}}, inplace=True)\n",
    "\n",
    "df.sort_values(by=['Participant', 'Trial'])"
   ]
  },
  {
   "cell_type": "code",
   "execution_count": null,
   "id": "d6e2acd6-1ecf-40bd-a21a-6bd542b81dbb",
   "metadata": {},
   "outputs": [],
   "source": [
    "df.to_parquet('output/aoi_stats.parquet')"
   ]
  }
 ],
 "metadata": {
  "kernelspec": {
   "display_name": "Python 3 (ipykernel)",
   "language": "python",
   "name": "python3"
  },
  "language_info": {
   "codemirror_mode": {
    "name": "ipython",
    "version": 3
   },
   "file_extension": ".py",
   "mimetype": "text/x-python",
   "name": "python",
   "nbconvert_exporter": "python",
   "pygments_lexer": "ipython3",
   "version": "3.10.14"
  }
 },
 "nbformat": 4,
 "nbformat_minor": 5
}
